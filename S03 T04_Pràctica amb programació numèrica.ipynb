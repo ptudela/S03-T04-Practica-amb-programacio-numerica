{
 "cells": [
  {
   "cell_type": "markdown",
   "id": "b08baee7",
   "metadata": {},
   "source": [
    "# S03 T04: Pràctica amb programació numèrica"
   ]
  },
  {
   "cell_type": "markdown",
   "id": "0bcd2998",
   "metadata": {},
   "source": [
    "# Nivell 1\n",
    "## Exercici 1. Crea una funció que donat un Array d’una dimensió, et faci un resum estadístic bàsic de les dades. Si detecta que l’array té més d’una dimensió, ha de mostrar un missatge d’error.\n"
   ]
  },
  {
   "cell_type": "code",
   "execution_count": 50,
   "id": "65f9c2f9",
   "metadata": {},
   "outputs": [
    {
     "name": "stdout",
     "output_type": "stream",
     "text": [
      "[0 8 4 2 2 2 7 6 8 4]\n",
      "the array has 1 dimension\n",
      "4.3\n",
      "4.0\n",
      "8\n",
      "0\n",
      "8\n",
      "7.210000000000001\n",
      "2.685144316419511\n",
      "1.0\n",
      "media: 4.3\n",
      "mediana: 4.0\n",
      "valor máximo: 8\n",
      "valor mínimo: 0\n",
      "rango: 8\n",
      "Varianza: 7.210000000000001\n",
      "Desviación estandar: 2.685144316419511\n",
      "coeficiente de correlación: 1.0\n"
     ]
    }
   ],
   "source": [
    "import numpy as np\n",
    "from numpy import random\n",
    "import statistics \n",
    "from scipy.stats import mode\n",
    "from numpy import mean, median, ptp, var, std, cov, corrcoef\n",
    "\n",
    "undarray = random.randint(10, size=(10))   #creamos un array de una dimensión para comprobar\n",
    "print(undarray)\n",
    "\n",
    "print(\"the array has \" + (str(undarray.ndim)) + \" dimension\")  #Verificamos el número de dimensiones del array\n",
    "print(np.mean(undarray))          #Pedimos los estadísticos básicos para comparar con la función que crearemos\n",
    "print(np.median(undarray))\n",
    "print(np.max(undarray))\n",
    "print(np.min(undarray))\n",
    "print(np.ptp(undarray))\n",
    "print(np.var(undarray))\n",
    "print(np.std(undarray))\n",
    "print(np.corrcoef(undarray))\n",
    "\n",
    "def esta_basics(undarray):                #Definimos una función para las estadísticas básicas\n",
    "    if undarray.ndim > 1:\n",
    "        print(\"error, the array has more than one dimension\")\n",
    "    else:\n",
    "        print(\"media: \" + str(np.mean(undarray)))\n",
    "        print(\"mediana: \"+ str(np.median(undarray)))\n",
    "        print(\"valor máximo: \"+ str(np.max(undarray)))\n",
    "        print(\"valor mínimo: \"+ str(np.min(undarray)))\n",
    "        print(\"rango: \" + str(np.ptp(undarray)))\n",
    "        print(\"Varianza: \" + str(np.var(undarray)))\n",
    "        print(\"Desviación estandar: \" + str(np.std(undarray)))\n",
    "        print(\"coeficiente de correlación: \"+ str(np.corrcoef(undarray)))\n",
    "esta_basics(undarray)\n",
    "    "
   ]
  },
  {
   "cell_type": "markdown",
   "id": "853c6203",
   "metadata": {},
   "source": [
    "## Exercici 2. Crea una funció que et generi un quadrat NxN de nombres aleatoris entre el 0 i el 100.\n"
   ]
  },
  {
   "cell_type": "code",
   "execution_count": 74,
   "id": "30bc91fe",
   "metadata": {},
   "outputs": [
    {
     "name": "stdout",
     "output_type": "stream",
     "text": [
      "[[74  1 23 61 24]\n",
      " [74 86 33 67 63]\n",
      " [63 69  0 55 28]\n",
      " [62 25 23 89  2]\n",
      " [89 26 25 31 53]]\n"
     ]
    }
   ],
   "source": [
    "import numpy as np\n",
    "from numpy import random\n",
    "\n",
    "n = random.randint(100, size = (5,5))\n",
    "print(n)"
   ]
  },
  {
   "cell_type": "markdown",
   "id": "7cfca908",
   "metadata": {},
   "source": [
    "## Exercici 3. Crea una funció que donada una taula de dues dimensions, et calculi els totals per fila i els totals per columna.\n"
   ]
  },
  {
   "cell_type": "code",
   "execution_count": 75,
   "id": "e606b27e",
   "metadata": {},
   "outputs": [
    {
     "name": "stdout",
     "output_type": "stream",
     "text": [
      "[[37 32]\n",
      " [68 90]\n",
      " [62  3]]\n",
      "total por columnas [167 125]\n",
      "total por filas [ 69 158  65]\n"
     ]
    }
   ],
   "source": [
    "array = random.randint (100, size = (3,2))\n",
    "print(array)\n",
    "a = array.sum(axis =0) # total por columnas\n",
    "print(\"total por columnas \" + str(a))\n",
    "b = array.sum(axis=1) # total por filas\n",
    "print(\"total por filas \"+ str(b))\n"
   ]
  },
  {
   "cell_type": "markdown",
   "id": "3c0d94fe",
   "metadata": {},
   "source": [
    "## Exercici 4. Implementa manualment una funció que calculi el coeficient de correlació. Informa’t-en sobre els seus usos i interpretació.\n"
   ]
  },
  {
   "cell_type": "markdown",
   "id": "ce234b03",
   "metadata": {},
   "source": [
    "__coeficiente de correlación__\n",
    "\\begin{equation*}\n",
    "r = \\frac{\\sum (x_{i} - \\bar{x}) (y_{i}- \\bar{y})} {\\sqrt\\sum (x_{i} - \\bar{x})^{2} \\sum(y_{i} - \\bar{y})^{2} }\n",
    "\\end{equation*}\n",
    "\n",
    "__coeficiente de correlación__\n",
    "\\begin{equation*}\n",
    "r(x,y) = \\frac{COV(x,y)}{S(x) S(y)}\n",
    "\\end{equation*}\n"
   ]
  },
  {
   "cell_type": "code",
   "execution_count": 131,
   "id": "43a3596d",
   "metadata": {},
   "outputs": [
    {
     "name": "stdout",
     "output_type": "stream",
     "text": [
      "    edad  estres_eco\n",
      "0     26           6\n",
      "1     18           2\n",
      "2     29           6\n",
      "3     20           6\n",
      "4     28           7\n",
      "5     19           5\n",
      "6     26           7\n",
      "7     27           9\n",
      "8     23           5\n",
      "9     20           4\n",
      "10    24           7\n",
      "11    26           8\n",
      "12    25           7\n",
      "13    27           6\n",
      "14    26           5\n",
      "15    24           6\n",
      "16    22           7\n",
      "17    18           2\n",
      "18    28           5\n",
      "19    28           6\n",
      "20    27           7\n"
     ]
    },
    {
     "data": {
      "image/png": "[encoded data removed]",
      "text/plain": [
       "<Figure size 432x288 with 1 Axes>"
      ]
     },
     "metadata": {
      "needs_background": "light"
     },
     "output_type": "display_data"
    },
    {
     "name": "stdout",
     "output_type": "stream",
     "text": [
      "                 edad  estres_eco\n",
      "edad        11.841270    3.714286\n",
      "estres_eco   3.714286    2.789116\n",
      "La covarianza es: 3.7142857142857135\n",
      "3.441114621931365\n",
      "1.6700645635000175\n",
      "5.746883589029332\n",
      "El coeficiente de correlación es: 0.6463130245714737\n"
     ]
    },
    {
     "data": {
      "text/html": [
       "<div>\n",
       "<style scoped>\n",
       "    .dataframe tbody tr th:only-of-type {\n",
       "        vertical-align: middle;\n",
       "    }\n",
       "\n",
       "    .dataframe tbody tr th {\n",
       "        vertical-align: top;\n",
       "    }\n",
       "\n",
       "    .dataframe thead th {\n",
       "        text-align: right;\n",
       "    }\n",
       "</style>\n",
       "<table border=\"1\" class=\"dataframe\">\n",
       "  <thead>\n",
       "    <tr style=\"text-align: right;\">\n",
       "      <th></th>\n",
       "      <th>edad</th>\n",
       "      <th>estres_eco</th>\n",
       "    </tr>\n",
       "  </thead>\n",
       "  <tbody>\n",
       "    <tr>\n",
       "      <th>edad</th>\n",
       "      <td>1.000000</td>\n",
       "      <td>0.646313</td>\n",
       "    </tr>\n",
       "    <tr>\n",
       "      <th>estres_eco</th>\n",
       "      <td>0.646313</td>\n",
       "      <td>1.000000</td>\n",
       "    </tr>\n",
       "  </tbody>\n",
       "</table>\n",
       "</div>"
      ],
      "text/plain": [
       "                edad  estres_eco\n",
       "edad        1.000000    0.646313\n",
       "estres_eco  0.646313    1.000000"
      ]
     },
     "execution_count": 131,
     "metadata": {},
     "output_type": "execute_result"
    }
   ],
   "source": [
    "#creamos dos listas y las transformamos en DataFrame\n",
    "import pandas as pd\n",
    "import matplotlib.pyplot as plt\n",
    "\n",
    "data = {\n",
    "  \"edad\": [26, 18, 29, 20, 28, 19, 26, 27, 23, 20, 24, 26, 25, 27, 26, 24, 22, 18, 28, 28,27],\n",
    "  \"estres_eco\": [6, 2, 6, 6, 7, 5, 7, 9, 5, 4, 7, 8, 7, 6, 5, 6, 7, 2, 5, 6,7]  \n",
    "}\n",
    "\n",
    "#load data into a DataFrame object:\n",
    "my_df = pd.DataFrame(data)\n",
    "print(my_df)\n",
    "\n",
    "my_df.plot(kind = 'scatter', x = 'edad', y = 'estres_eco')\n",
    "\n",
    "plt.show()    #visualizamos los datos\n",
    "\n",
    "# calcular las diferentes partes de la ecuación para dos muestras: covariance y desviación típica\n",
    "\n",
    "#calculamos la covarianza, que es el numerador\n",
    "cov_df = my_df.cov(ddof=0)\n",
    "print(cov_df)\n",
    "numerador = cov_df.loc[\"edad\", \"estres_eco\"]\n",
    "print(\"La covarianza es: \" + str(numerador))\n",
    "\n",
    "#calculamos la desviación típica para cada columna. El producto de ambos es el denominador\n",
    "std_edad= my_df[\"edad\"].std(ddof=0)\n",
    "print(std_edad)\n",
    "std_stres=my_df[\"estres_eco\"].std(ddof=0)\n",
    "print(std_stres)\n",
    "\n",
    "denom = std_edad*std_stres\n",
    "print(denom)\n",
    "\n",
    "#calculamos el coeficiente de correlación\n",
    "coef_corr = num/denom\n",
    "print(\"El coeficiente de correlación es: \" + str(coef_corr))\n",
    "\n",
    "#Comparamos con el cálculo directo con la función \n",
    "corr_df= my_df.corr()\n",
    "corr_df"
   ]
  }
 ],
 "metadata": {
  "kernelspec": {
   "display_name": "Python 3",
   "language": "python",
   "name": "python3"
  },
  "language_info": {
   "codemirror_mode": {
    "name": "ipython",
    "version": 3
   },
   "file_extension": ".py",
   "mimetype": "text/x-python",
   "name": "python",
   "nbconvert_exporter": "python",
   "pygments_lexer": "ipython3",
   "version": "3.8.8"
  },
  "latex_envs": {
   "LaTeX_envs_menu_present": true,
   "autoclose": false,
   "autocomplete": true,
   "bibliofile": "biblio.bib",
   "cite_by": "apalike",
   "current_citInitial": 1,
   "eqLabelWithNumbers": true,
   "eqNumInitial": 1,
   "hotkeys": {
    "equation": "Ctrl-E",
    "itemize": "Ctrl-I"
   },
   "labels_anchors": false,
   "latex_user_defs": false,
   "report_style_numbering": false,
   "user_envs_cfg": false
  }
 },
 "nbformat": 4,
 "nbformat_minor": 5
}
